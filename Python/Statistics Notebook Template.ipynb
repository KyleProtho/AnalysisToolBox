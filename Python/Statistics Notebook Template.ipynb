{
 "cells": [
  {
   "cell_type": "markdown",
   "metadata": {},
   "source": [
    "# Statistic Notebook Template (custom title here)"
   ]
  },
  {
   "cell_type": "markdown",
   "metadata": {},
   "source": [
    "## 0. Introduction"
   ]
  },
  {
   "cell_type": "markdown",
   "metadata": {},
   "source": [
    "### 0.A. Load packages\n"
   ]
  },
  {
   "cell_type": "markdown",
   "metadata": {},
   "source": [
    "### 0.B. Declare functions"
   ]
  },
  {
   "cell_type": "markdown",
   "metadata": {},
   "source": [
    "## 1. Prep data\n",
    "This is where you can load, clean, merge, and transform dataset as needed, rename variables as needed, make new/derivative variables (ex. age from birthdate)."
   ]
  },
  {
   "cell_type": "markdown",
   "metadata": {},
   "source": [
    "## 2. Check data\n",
    "\n",
    "There is where you can double-check your N (i.e., the granularity of your datasets), check for impossible or unlikely values (indicative of error), cross-check variables for inconsistencies, and perform other checks to make sure your data is clean.\n"
   ]
  },
  {
   "cell_type": "markdown",
   "metadata": {},
   "source": [
    "## 3. Study variables\n",
    "Study your data by generating descriptive statistics, counts for categorical variables, and single-variable graphs (i.e., histograms) of your variables.\n"
   ]
  },
  {
   "cell_type": "markdown",
   "metadata": {},
   "source": [
    "## 4. Deal with missing data\n",
    "Identify missing data, document reasons for it, compare elements that are missing data to those that are not, decide on exclusion (e.g., if they are missing the primary exposure or outcome), and impute missing data as needed.\n"
   ]
  },
  {
   "cell_type": "markdown",
   "metadata": {},
   "source": [
    "## 5. Explore simple relations and assumptions\n",
    "Correlation matrix, two-variable plots for relationship of interest, plots to test assumptions"
   ]
  },
  {
   "cell_type": "markdown",
   "metadata": {},
   "source": [
    "## 6. Prepare a descriptive table\n",
    "Create descriptive tables (a.k.a., \"Table 1\") only focusing on the key variables for your project or analysis (unlike the previous stages, where you're familiarizing yourself with entire datasets).\n"
   ]
  },
  {
   "cell_type": "markdown",
   "metadata": {},
   "source": [
    "## 7. Test the main hypothesis or hypotheses\n",
    "Run formal statistical tests, run regression models, generate p-values and confidence intervals\n"
   ]
  },
  {
   "cell_type": "markdown",
   "metadata": {},
   "source": [
    "## 8. Build final models and accompanying graphics\n",
    "Check model assumptions, focus on data presentation, build accompanying graphics\n"
   ]
  },
  {
   "cell_type": "markdown",
   "metadata": {},
   "source": [
    "## 9. Perform sensitivity analyses\n",
    "This is where you should conduct analysis under different decisions you might have made in your analysis. For example, run models with and without outliers, try different values for the parameters, try different ways of imputing missing data, etc.\n"
   ]
  },
  {
   "cell_type": "markdown",
   "metadata": {},
   "source": [
    "## 10. Prepare final code documents\n",
    "Data creation (usually the longest), final tables and figures, additional analyses\n"
   ]
  }
 ],
 "metadata": {
  "kernelspec": {
   "display_name": "Python 3",
   "language": "python",
   "name": "python3"
  },
  "language_info": {
   "codemirror_mode": {
    "name": "ipython",
    "version": 3
   },
   "file_extension": ".py",
   "mimetype": "text/x-python",
   "name": "python",
   "nbconvert_exporter": "python",
   "pygments_lexer": "ipython3",
   "version": "3.9.6"
  }
 },
 "nbformat": 4,
 "nbformat_minor": 4
}
