{
 "cells": [
  {
   "cell_type": "markdown",
   "metadata": {},
   "source": [
    "# Statistic Notebook Template (custom title here)"
   ]
  },
  {
   "cell_type": "markdown",
   "metadata": {},
   "source": [
    "## 1. Prep data\n",
    "Load into SAS or R, merge datasets as needed, rename variables as needed, make new/derivative variables (ex. age from birthdate)"
   ]
  },
  {
   "cell_type": "markdown",
   "metadata": {},
   "source": [
    "## 2. Check data\n",
    "Double-check your N, check for impossible or unlikely values (indicative of error), cross-check variables for inconsistencies"
   ]
  },
  {
   "cell_type": "markdown",
   "metadata": {},
   "source": [
    "## 3. Study variables\n",
    "Descriptive statistics, counts for categorical variables, histograms for quantitative variables"
   ]
  },
  {
   "cell_type": "markdown",
   "metadata": {},
   "source": [
    "## 4. Deal with missing data\n",
    "Identify it, document reasons for missing data, compare participants who are missing data to those who are not, decide on exclusion (ex. If they are missing the primary exposure or outcome), impute missing data (an advanced skill)"
   ]
  },
  {
   "cell_type": "markdown",
   "metadata": {},
   "source": [
    "## 5. Explore simple relations and assumptions\n",
    "Correlation matrix, two-variable plots for relationship of interest, plots to test assumptions"
   ]
  },
  {
   "cell_type": "markdown",
   "metadata": {},
   "source": [
    "## 6. Prepare a descriptive table"
   ]
  },
  {
   "cell_type": "markdown",
   "metadata": {},
   "source": [
    "## 7. Test the main hypothesis or hypotheses\n",
    "Run formal statistical tests, run regression models, generate p-values and confidence intervals"
   ]
  },
  {
   "cell_type": "markdown",
   "metadata": {},
   "source": [
    "## 8. Build final models and accompanying graphics\n",
    "Check model assumptions, focus on data presentation, build accompanying graphics"
   ]
  },
  {
   "cell_type": "markdown",
   "metadata": {},
   "source": [
    "## 9. Perform sensitivity analyses\n",
    "Run models with and without outliers, try different values for the parameters, try different ways of imputing missing data"
   ]
  },
  {
   "cell_type": "markdown",
   "metadata": {},
   "source": [
    "## 10. Prepare final code documents\n",
    "Data creation (usually the longest), final tables and figures, additional analyses"
   ]
  },
  {
   "cell_type": "code",
   "execution_count": null,
   "metadata": {},
   "outputs": [],
   "source": []
  }
 ],
 "metadata": {
  "kernelspec": {
   "display_name": "Python 3",
   "language": "python",
   "name": "python3"
  },
  "language_info": {
   "codemirror_mode": {
    "name": "ipython",
    "version": 3
   },
   "file_extension": ".py",
   "mimetype": "text/x-python",
   "name": "python",
   "nbconvert_exporter": "python",
   "pygments_lexer": "ipython3",
   "version": "3.7.9"
  }
 },
 "nbformat": 4,
 "nbformat_minor": 4
}
